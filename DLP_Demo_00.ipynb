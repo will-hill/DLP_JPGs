{
 "cells": [
  {
   "cell_type": "code",
   "execution_count": 1,
   "id": "1d0a1ee0-971e-47dc-ad3d-395c83e5dbcf",
   "metadata": {},
   "outputs": [],
   "source": [
    "from tqdm import tqdm\n",
    "import requests\n",
    "import os"
   ]
  },
  {
   "cell_type": "markdown",
   "id": "d3a66705-347a-41c5-92c5-62f2c321351a",
   "metadata": {},
   "source": [
    "### auth"
   ]
  },
  {
   "cell_type": "code",
   "execution_count": 2,
   "id": "26cf53ef-5d15-4712-bce7-5d9bc6148403",
   "metadata": {},
   "outputs": [],
   "source": [
    "import google.auth\n",
    "\n",
    "# For manual authorization, can point to JSON credentials\n",
    "# CREDENTIAL = os.getenv(\"GOOGLE_APPLICATION_CREDENTIALS\")\n",
    "# PROJECT = os.getenv(\"GOOGLE_CLOUD_PROJECT\")\n",
    "\n",
    "# Default is to assume GOOGLE_APPLICATION_CREDENTIALS is set to proper JSON credential\n",
    "CREDENTIALS, PROJECT = google.auth.default()"
   ]
  },
  {
   "cell_type": "markdown",
   "id": "d027c652-88d5-4a73-8b96-a20185d900a4",
   "metadata": {},
   "source": [
    "<hr/>"
   ]
  },
  {
   "cell_type": "markdown",
   "id": "fdf54708-22aa-482d-8a37-c1a7143a001f",
   "metadata": {},
   "source": [
    "<img src='https://fonts.gstatic.com/s/i/gcpiconscolors/cloud_storage/v1/24px.svg' width=200>"
   ]
  },
  {
   "cell_type": "markdown",
   "id": "33170b42-5f50-40e8-9704-ece1d0c2f3b4",
   "metadata": {},
   "source": [
    "# Save Files to Google Cloud Storage (GCS)\n",
    "### GCS ~ S3\n",
    "https://cloud.google.com/storage"
   ]
  },
  {
   "cell_type": "code",
   "execution_count": 3,
   "id": "b014366c-b8e8-4979-979e-191914c74605",
   "metadata": {},
   "outputs": [],
   "source": [
    "import google.cloud.storage\n",
    "\n",
    "\n",
    "# config\n",
    "BUCKET = f\"{PROJECT}-dlp\"\n",
    "FILE_CATALOG_URL = os.getenv(\"FILE_CATALOG_URL\")\n",
    "\n",
    "\n",
    "# GCS client\n",
    "google_cloud_storage = google.cloud.storage.Client()\n",
    "\n",
    "# Bucket\n",
    "bucket = google_cloud_storage.bucket(BUCKET)"
   ]
  },
  {
   "cell_type": "code",
   "execution_count": 4,
   "id": "a53e3dfd-ef6d-483e-823f-1cd6d60e99ac",
   "metadata": {},
   "outputs": [
    {
     "name": "stderr",
     "output_type": "stream",
     "text": [
      "100%|██████████████████████████████████████████████████████████████████████████████████████████████████████████████████████████████████████████████████| 109/109 [00:59<00:00,  1.84it/s]\n"
     ]
    }
   ],
   "source": [
    "# Create list of file URLs from catalog \n",
    "files = [file['file']['@url'] for file in requests.get(FILE_CATALOG_URL).json()['opaResponse']['results']['result'][0]['objects']['object']]\n",
    "\n",
    "from base64 import b64encode\n",
    "sizes = []\n",
    "# save to GCS Bucket\n",
    "for file in tqdm(files):\n",
    "    # blob_name = file.split('https://')[1]\n",
    "    # blob = bucket.blob(blob_name)\n",
    "    file = requests.get(file)\n",
    "    image_bytes = file.content\n",
    "    sizes.append(len(b64encode(image_bytes)))\n",
    "    # blob.upload_from_string(image_bytes)"
   ]
  },
  {
   "cell_type": "markdown",
   "id": "0ceb3cf4-970e-439b-ae6c-f72da851a04a",
   "metadata": {},
   "source": [
    "<hr/>"
   ]
  },
  {
   "cell_type": "markdown",
   "id": "4a5abb52-e02d-4577-9104-3aa9ad1325f9",
   "metadata": {},
   "source": [
    "<img src='https://fonts.gstatic.com/s/i/gcpiconscolors/data_loss_prevention_api/v1/24px.svg' width=200>"
   ]
  },
  {
   "cell_type": "markdown",
   "id": "165ba191-bf66-49d4-a677-4385b2fe57d1",
   "metadata": {},
   "source": [
    "# Data Loss Prevention (DLP)\n",
    "\n",
    "### Deep dive demo with Product Manager:\n",
    "https://www.youtube.com/watch?v=vmFFCC9gh1Y\n",
    "\n",
    "### API Sample Code\n",
    "https://cloud.google.com/dlp/docs/libraries#using_the_client_library\n",
    "\n",
    "### Overview\n",
    "https://cloud.google.com/dlp  \n",
    "https://cloud.google.com/dlp/docs/inspecting-storage  \n",
    "https://cloud.google.com/dlp/docs/compute-risk-analysis  "
   ]
  },
  {
   "cell_type": "markdown",
   "id": "0b44dc31-b999-46c7-bdf0-bf47f68e4692",
   "metadata": {},
   "source": [
    "### Information Types for Inspection\n",
    "##### Leaving info_types blank or set to None is the same as including all of them.  Putting here for convenience"
   ]
  },
  {
   "cell_type": "code",
   "execution_count": 5,
   "id": "4b509a9c-77d5-4c07-9cc2-0d29ed4c7a25",
   "metadata": {
    "tags": []
   },
   "outputs": [],
   "source": [
    "INFO_TYPES = [\n",
    "{\n",
    "  \"name\": \"ADVERTISING_ID\"\n",
    "},\n",
    "{\n",
    "  \"name\": \"AGE\"\n",
    "},\n",
    "{\n",
    "  \"name\": \"ARGENTINA_DNI_NUMBER\"\n",
    "},\n",
    "{\n",
    "  \"name\": \"AUSTRALIA_TAX_FILE_NUMBER\"\n",
    "},\n",
    "{\n",
    "  \"name\": \"BELGIUM_NATIONAL_ID_CARD_NUMBER\"\n",
    "},\n",
    "{\n",
    "  \"name\": \"BRAZIL_CPF_NUMBER\"\n",
    "},\n",
    "{\n",
    "  \"name\": \"CANADA_SOCIAL_INSURANCE_NUMBER\"\n",
    "},\n",
    "{\n",
    "  \"name\": \"CHILE_CDI_NUMBER\"\n",
    "},\n",
    "{\n",
    "  \"name\": \"CHINA_RESIDENT_ID_NUMBER\"\n",
    "},\n",
    "{\n",
    "  \"name\": \"COLOMBIA_CDC_NUMBER\"\n",
    "},\n",
    "{\n",
    "  \"name\": \"CREDIT_CARD_NUMBER\"\n",
    "},\n",
    "{\n",
    "  \"name\": \"CREDIT_CARD_TRACK_NUMBER\"\n",
    "},\n",
    "{\n",
    "  \"name\": \"DATE_OF_BIRTH\"\n",
    "},\n",
    "{\n",
    "  \"name\": \"DENMARK_CPR_NUMBER\"\n",
    "},\n",
    "{\n",
    "  \"name\": \"EMAIL_ADDRESS\"\n",
    "},\n",
    "{\n",
    "  \"name\": \"ETHNIC_GROUP\"\n",
    "},\n",
    "{\n",
    "  \"name\": \"FDA_CODE\"\n",
    "},\n",
    "{\n",
    "  \"name\": \"FINLAND_NATIONAL_ID_NUMBER\"\n",
    "},\n",
    "{\n",
    "  \"name\": \"FRANCE_CNI\"\n",
    "},\n",
    "{\n",
    "  \"name\": \"FRANCE_NIR\"\n",
    "},\n",
    "{\n",
    "  \"name\": \"FRANCE_TAX_IDENTIFICATION_NUMBER\"\n",
    "},\n",
    "{\n",
    "  \"name\": \"GENDER\"\n",
    "},\n",
    "{\n",
    "  \"name\": \"GERMANY_IDENTITY_CARD_NUMBER\"\n",
    "},\n",
    "{\n",
    "  \"name\": \"GERMANY_TAXPAYER_IDENTIFICATION_NUMBER\"\n",
    "},\n",
    "{\n",
    "  \"name\": \"HONG_KONG_ID_NUMBER\"\n",
    "},\n",
    "{\n",
    "  \"name\": \"IBAN_CODE\"\n",
    "},\n",
    "{\n",
    "  \"name\": \"IMEI_HARDWARE_ID\"\n",
    "},\n",
    "{\n",
    "  \"name\": \"INDIA_AADHAAR_INDIVIDUAL\"\n",
    "},\n",
    "{\n",
    "  \"name\": \"INDIA_GST_INDIVIDUAL\"\n",
    "},\n",
    "{\n",
    "  \"name\": \"INDIA_PAN_INDIVIDUAL\"\n",
    "},\n",
    "{\n",
    "  \"name\": \"INDONESIA_NIK_NUMBER\"\n",
    "},\n",
    "{\n",
    "  \"name\": \"IRELAND_PPSN\"\n",
    "},\n",
    "{\n",
    "  \"name\": \"ISRAEL_IDENTITY_CARD_NUMBER\"\n",
    "},\n",
    "{\n",
    "  \"name\": \"JAPAN_INDIVIDUAL_NUMBER\"\n",
    "},\n",
    "{\n",
    "  \"name\": \"KOREA_RRN\"\n",
    "},\n",
    "{\n",
    "  \"name\": \"MAC_ADDRESS\"\n",
    "},\n",
    "{\n",
    "  \"name\": \"MEXICO_CURP_NUMBER\"\n",
    "},\n",
    "{\n",
    "  \"name\": \"NETHERLANDS_BSN_NUMBER\"\n",
    "},\n",
    "{\n",
    "  \"name\": \"NORWAY_NI_NUMBER\"\n",
    "},\n",
    "{\n",
    "  \"name\": \"PARAGUAY_CIC_NUMBER\"\n",
    "},\n",
    "{\n",
    "  \"name\": \"PASSPORT\"\n",
    "},\n",
    "{\n",
    "  \"name\": \"PASSWORD\"\n",
    "},\n",
    "{\n",
    "  \"name\": \"PERSON_NAME\"\n",
    "},\n",
    "{\n",
    "  \"name\": \"PERU_DNI_NUMBER\"\n",
    "},\n",
    "{\n",
    "  \"name\": \"PHONE_NUMBER\"\n",
    "},\n",
    "{\n",
    "  \"name\": \"POLAND_NATIONAL_ID_NUMBER\"\n",
    "},\n",
    "{\n",
    "  \"name\": \"PORTUGAL_CDC_NUMBER\"\n",
    "},\n",
    "{\n",
    "  \"name\": \"SCOTLAND_COMMUNITY_HEALTH_INDEX_NUMBER\"\n",
    "},\n",
    "{\n",
    "  \"name\": \"SINGAPORE_NATIONAL_REGISTRATION_ID_NUMBER\"\n",
    "},\n",
    "{\n",
    "  \"name\": \"SPAIN_CIF_NUMBER\"\n",
    "},\n",
    "{\n",
    "  \"name\": \"SPAIN_DNI_NUMBER\"\n",
    "},\n",
    "{\n",
    "  \"name\": \"SPAIN_NIE_NUMBER\"\n",
    "},\n",
    "{\n",
    "  \"name\": \"SPAIN_NIF_NUMBER\"\n",
    "},\n",
    "{\n",
    "  \"name\": \"SPAIN_SOCIAL_SECURITY_NUMBER\"\n",
    "},\n",
    "{\n",
    "  \"name\": \"STORAGE_SIGNED_URL\"\n",
    "},\n",
    "{\n",
    "  \"name\": \"STREET_ADDRESS\"\n",
    "},\n",
    "{\n",
    "  \"name\": \"SWEDEN_NATIONAL_ID_NUMBER\"\n",
    "},\n",
    "{\n",
    "  \"name\": \"SWIFT_CODE\"\n",
    "},\n",
    "{\n",
    "  \"name\": \"THAILAND_NATIONAL_ID_NUMBER\"\n",
    "},\n",
    "{\n",
    "  \"name\": \"TURKEY_ID_NUMBER\"\n",
    "},\n",
    "{\n",
    "  \"name\": \"UK_NATIONAL_HEALTH_SERVICE_NUMBER\"\n",
    "},\n",
    "{\n",
    "  \"name\": \"UK_NATIONAL_INSURANCE_NUMBER\"\n",
    "},\n",
    "{\n",
    "  \"name\": \"UK_TAXPAYER_REFERENCE\"\n",
    "},\n",
    "{\n",
    "  \"name\": \"URUGUAY_CDI_NUMBER\"\n",
    "},\n",
    "{\n",
    "  \"name\": \"US_BANK_ROUTING_MICR\"\n",
    "},\n",
    "{\n",
    "  \"name\": \"US_EMPLOYER_IDENTIFICATION_NUMBER\"\n",
    "},\n",
    "{\n",
    "  \"name\": \"US_HEALTHCARE_NPI\"\n",
    "},\n",
    "{\n",
    "  \"name\": \"US_INDIVIDUAL_TAXPAYER_IDENTIFICATION_NUMBER\"\n",
    "},\n",
    "{\n",
    "  \"name\": \"US_SOCIAL_SECURITY_NUMBER\"\n",
    "},\n",
    "{\n",
    "  \"name\": \"VEHICLE_IDENTIFICATION_NUMBER\"\n",
    "},\n",
    "{\n",
    "  \"name\": \"VENEZUELA_CDI_NUMBER\"\n",
    "},\n",
    "{\n",
    "  \"name\": \"WEAK_PASSWORD_HASH\"\n",
    "},\n",
    "{\n",
    "  \"name\": \"AUTH_TOKEN\"\n",
    "},\n",
    "{\n",
    "  \"name\": \"AWS_CREDENTIALS\"\n",
    "},\n",
    "{\n",
    "  \"name\": \"AZURE_AUTH_TOKEN\"\n",
    "},\n",
    "{\n",
    "  \"name\": \"BASIC_AUTH_HEADER\"\n",
    "},\n",
    "{\n",
    "  \"name\": \"ENCRYPTION_KEY\"\n",
    "},\n",
    "{\n",
    "  \"name\": \"GCP_API_KEY\"\n",
    "},\n",
    "{\n",
    "  \"name\": \"GCP_CREDENTIALS\"\n",
    "},\n",
    "{\n",
    "  \"name\": \"JSON_WEB_TOKEN\"\n",
    "},\n",
    "{\n",
    "  \"name\": \"HTTP_COOKIE\"\n",
    "},\n",
    "{\n",
    "  \"name\": \"XSRF_TOKEN\"\n",
    "}\n",
    "]"
   ]
  },
  {
   "cell_type": "markdown",
   "id": "74908aea-e757-4e8e-b00c-9df1826c5ba7",
   "metadata": {},
   "source": [
    "### Batch DLP Inspection"
   ]
  },
  {
   "cell_type": "code",
   "execution_count": 6,
   "id": "0f028b04-ef4d-41c9-ac4a-d87fb51b86a5",
   "metadata": {
    "tags": []
   },
   "outputs": [],
   "source": [
    "import google.cloud.dlp\n",
    "\n",
    "# DLP client\n",
    "dlp_client = google.cloud.dlp_v2.DlpServiceClient()\n",
    "\n",
    "DLP_JOB_ID = \"dlp-demo\"\n",
    "MIN_LIKELIHOOD = \"VERY_UNLIKELY\" # grab unlikely hits, can incease probability to reduce sensativity\n",
    "FILE_TYPES = \"FILE_TYPE_UNSPECIFIED\" # check all files\n",
    "\n",
    "# for reporting\n",
    "BIG_QUERY_DATASET = \"dlp\"\n",
    "BIG_QUERY_TABLE = \"dlp-results\"\n",
    "\n",
    "PARENT = f\"projects/{PROJECT}/locations/global\"\n",
    "\n",
    "dlp_config = {\n",
    "  \"jobId\": DLP_JOB_ID,\n",
    "  \"inspectJob\": {\n",
    "    \"actions\": [{\"save_findings\": {\"output_config\": {\"table\": {\n",
    "        \"project_id\": PROJECT,\n",
    "        \"table_id\": BIG_QUERY_TABLE,\n",
    "        \"dataset_id\": BIG_QUERY_DATASET\n",
    "    }}}}],\n",
    "    \"inspect_config\": {\n",
    "        \"info_types\":INFO_TYPES,\n",
    "        \"min_likelihood\": MIN_LIKELIHOOD,\n",
    "        \"include_quote\": True\n",
    "    },\n",
    "    \"storage_config\": {\"cloud_storage_options\": {\n",
    "        \"files_limit_percent\": 100,\n",
    "        \"file_set\": {\"regex_file_set\": {\"bucket_name\": BUCKET}},\n",
    "        \"file_types\": [FILE_TYPES]\n",
    "    }}}}"
   ]
  },
  {
   "cell_type": "code",
   "execution_count": 7,
   "id": "dc9ecba4-4a92-41f3-b4b2-813ff6f1afe6",
   "metadata": {
    "tags": []
   },
   "outputs": [],
   "source": [
    "operation = dlp_client.create_dlp_job(request={\"parent\": PARENT, \"inspect_job\": dlp_config['inspectJob']})"
   ]
  },
  {
   "cell_type": "code",
   "execution_count": 8,
   "id": "0b54ec8c-ccc7-4159-9e08-2b24d6c6f721",
   "metadata": {},
   "outputs": [
    {
     "name": "stdout",
     "output_type": "stream",
     "text": [
      "Fri May 20 15:31:50 EDT 2022\n",
      "Inspection operation started: projects/singularity-beta/locations/global/dlpJobs/i-2066573364666159000\n"
     ]
    }
   ],
   "source": [
    "!date\n",
    "print(f\"Inspection operation started: {operation.name}\")"
   ]
  },
  {
   "cell_type": "markdown",
   "id": "37d408a1-f7d0-40d3-a22b-d3b56e67b8e9",
   "metadata": {},
   "source": [
    "### Check Status"
   ]
  },
  {
   "cell_type": "code",
   "execution_count": 9,
   "id": "686b6354-b73f-4666-bffb-5248631b074c",
   "metadata": {},
   "outputs": [
    {
     "name": "stdout",
     "output_type": "stream",
     "text": [
      "State: RUNNING : 0.0% scanned\n",
      "CPU times: user 445 ms, sys: 498 ms, total: 943 ms\n",
      "Wall time: 12min 53s\n"
     ]
    }
   ],
   "source": [
    "%%time\n",
    "\n",
    "import time\n",
    "while dlp_client.get_dlp_job(name=operation.name).state.name != \"DONE\":\n",
    "    dlp_job = dlp_client.get_dlp_job(name=operation.name)\n",
    "    time.sleep(10)\n",
    "print(f\"State: {dlp_job.state.name} : {dlp_job.inspect_details.result.processed_bytes / dlp_job.inspect_details.result.total_estimated_bytes * 100}% scanned\")"
   ]
  },
  {
   "cell_type": "code",
   "execution_count": 12,
   "id": "e6d9a397-4649-4d38-9a56-b949b50291b0",
   "metadata": {},
   "outputs": [
    {
     "name": "stdout",
     "output_type": "stream",
     "text": [
      "total_hits 2322342\n"
     ]
    },
    {
     "data": {
      "text/plain": [
       "[['CANADA_SOCIAL_INSURANCE_NUMBER', 1],\n",
       " ['PERSON_NAME', 2271008],\n",
       " ['EMAIL_ADDRESS', 122],\n",
       " ['PASSWORD', 77],\n",
       " ['FDA_CODE', 48754],\n",
       " ['PHONE_NUMBER', 50],\n",
       " ['AGE', 2131],\n",
       " ['ETHNIC_GROUP', 140],\n",
       " ['STREET_ADDRESS', 40],\n",
       " ['NETHERLANDS_BSN_NUMBER', 3],\n",
       " ['GERMANY_IDENTITY_CARD_NUMBER', 7],\n",
       " ['US_SOCIAL_SECURITY_NUMBER', 4],\n",
       " ['GENDER', 4],\n",
       " ['DATE_OF_BIRTH', 1]]"
      ]
     },
     "execution_count": 12,
     "metadata": {},
     "output_type": "execute_result"
    }
   ],
   "source": [
    "hits = []\n",
    "total_hits = 0\n",
    "\n",
    "for hit in dlp_client.get_dlp_job(name=operation.name).inspect_details.result.info_type_stats:\n",
    "    hits.append([hit.info_type.name, hit.count])\n",
    "    total_hits += hit.count\n",
    "print(f\"total_hits {total_hits}\")\n",
    "hits"
   ]
  },
  {
   "cell_type": "markdown",
   "id": "73789a3f-f975-4696-aad7-2a5a5ef8d388",
   "metadata": {},
   "source": [
    "<hr/>"
   ]
  },
  {
   "cell_type": "markdown",
   "id": "25353ba3-1267-4901-b094-0fc0613d0708",
   "metadata": {},
   "source": [
    "<img src=\"https://fonts.gstatic.com/s/i/gcpiconscolors/bigquery/v1/24px.svg\"  width=200/>"
   ]
  },
  {
   "cell_type": "markdown",
   "id": "d264de48-4ee4-4775-82ea-c593e207bfc7",
   "metadata": {},
   "source": [
    "# Reporting w/ BigQuery & Pandas\n",
    "### Inspect Results"
   ]
  },
  {
   "cell_type": "code",
   "execution_count": 13,
   "id": "22bbacf4-55bc-4137-aad8-ac2459b4cf30",
   "metadata": {},
   "outputs": [],
   "source": [
    "import pandas as pd\n",
    "\n",
    "TBL = f\"`{PROJECT}.{BIG_QUERY_DATASET}.{BIG_QUERY_TABLE}`\""
   ]
  },
  {
   "cell_type": "markdown",
   "id": "7b5e1d3d-4681-4618-8c78-ac20234dd3f1",
   "metadata": {},
   "source": [
    "# Polished Report"
   ]
  },
  {
   "cell_type": "markdown",
   "id": "7a9bede0-82ab-4e4a-b802-6ce63d699b09",
   "metadata": {},
   "source": [
    "### Bulk Download"
   ]
  },
  {
   "cell_type": "code",
   "execution_count": 14,
   "id": "3bef4340-4888-4aa2-8176-84f2de88f302",
   "metadata": {},
   "outputs": [
    {
     "name": "stdout",
     "output_type": "stream",
     "text": [
      "CPU times: user 14.4 s, sys: 8.89 s, total: 23.3 s\n",
      "Wall time: 20.7 s\n"
     ]
    }
   ],
   "source": [
    "%%time\n",
    "# ~10-20 secs\n",
    "\n",
    "\n",
    "# Get raw data\n",
    "df = pd.read_gbq(f\"\"\"\n",
    "\n",
    "    SELECT \n",
    "        quote, info_type.name, likelihood, location, \n",
    "    FROM {TBL} \n",
    "    WHERE  likelihood in ('VERY_LIKELY','LIKELY', 'POSSIBLE')\n",
    "    \n",
    "    \"\"\", use_bqstorage_api=True, progress_bar_type=True)"
   ]
  },
  {
   "cell_type": "markdown",
   "id": "c081ccc2-1ae2-4507-a066-a6d5606eef7e",
   "metadata": {},
   "source": [
    "  "
   ]
  },
  {
   "cell_type": "markdown",
   "id": "e90a9dee-99e1-43a4-9568-8162b669fd98",
   "metadata": {},
   "source": [
    "### Transformations"
   ]
  },
  {
   "cell_type": "code",
   "execution_count": 15,
   "id": "20ab2b6e-3ff0-47e7-ac9f-d186cf50a3ba",
   "metadata": {},
   "outputs": [
    {
     "name": "stdout",
     "output_type": "stream",
     "text": [
      "CPU times: user 29.5 s, sys: 1.2 s, total: 30.7 s\n",
      "Wall time: 30.8 s\n"
     ]
    }
   ],
   "source": [
    "%%time\n",
    "# ~15-20 secs\n",
    "\n",
    "\n",
    "df = pd.concat([df, pd.json_normalize(df[\"location\"])], axis=1)\n",
    "drop_cols = [\"location\",\"byte_range\",\"codepoint_range\",\"container.type\", \"container.project_id\", \"container.root_path\", \"container.update_time.timestamp\", \"container.update_time.seconds\", \"container.update_time.nanos\", \"container.version\",\"byte_range.start\",\"byte_range.end\",\"container.relative_path\"]\n",
    "df = df.drop(drop_cols, axis=1)\n",
    "\n",
    "df[\"content_locations\"] = df.apply(lambda x: x[\"content_locations\"][0], axis=1)\n",
    "df = pd.concat([df, pd.json_normalize(df[\"content_locations\"])], axis=1)\n",
    "\n",
    "drop_cols = list(pd.json_normalize(df[\"content_locations\"]).columns)\n",
    "\n",
    "# Include for visual analysis\n",
    "drop_cols.remove(\"image_location.bounding_boxes\")\n",
    "\n",
    "drop_cols.append(\"content_locations\")\n",
    "df = df.drop(drop_cols, axis=1)\n",
    "\n",
    "df = df.rename(columns={\"container.full_path\":\"object_path\",\"image_location.bounding_boxes\":\"bounding_boxes\"})"
   ]
  },
  {
   "cell_type": "markdown",
   "id": "341a0005-49b7-49f6-824e-d531c7e9457f",
   "metadata": {},
   "source": [
    "  "
   ]
  },
  {
   "cell_type": "markdown",
   "id": "5eed0904-6492-4b66-8107-d3f3c03867de",
   "metadata": {},
   "source": [
    "### Report -- Types & Likelihood"
   ]
  },
  {
   "cell_type": "code",
   "execution_count": 16,
   "id": "c4078ab8-7521-4987-bf7f-812ced5f91d9",
   "metadata": {},
   "outputs": [
    {
     "data": {
      "text/html": [
       "<div>\n",
       "<style scoped>\n",
       "    .dataframe tbody tr th:only-of-type {\n",
       "        vertical-align: middle;\n",
       "    }\n",
       "\n",
       "    .dataframe tbody tr th {\n",
       "        vertical-align: top;\n",
       "    }\n",
       "\n",
       "    .dataframe thead th {\n",
       "        text-align: right;\n",
       "    }\n",
       "</style>\n",
       "<table border=\"1\" class=\"dataframe\">\n",
       "  <thead>\n",
       "    <tr style=\"text-align: right;\">\n",
       "      <th></th>\n",
       "      <th>quote</th>\n",
       "      <th>name</th>\n",
       "      <th>likelihood</th>\n",
       "      <th>object_path</th>\n",
       "    </tr>\n",
       "  </thead>\n",
       "  <tbody>\n",
       "    <tr>\n",
       "      <th>620243</th>\n",
       "      <td>2y&gt;O</td>\n",
       "      <td>AGE</td>\n",
       "      <td>VERY_LIKELY</td>\n",
       "      <td>gs://singularity-beta-dlp/catalog.archives.gov...</td>\n",
       "    </tr>\n",
       "    <tr>\n",
       "      <th>447369</th>\n",
       "      <td>0? yo</td>\n",
       "      <td>AGE</td>\n",
       "      <td>VERY_LIKELY</td>\n",
       "      <td>gs://singularity-beta-dlp/catalog.archives.gov...</td>\n",
       "    </tr>\n",
       "    <tr>\n",
       "      <th>447195</th>\n",
       "      <td>30`  yo</td>\n",
       "      <td>AGE</td>\n",
       "      <td>VERY_LIKELY</td>\n",
       "      <td>gs://singularity-beta-dlp/catalog.archives.gov...</td>\n",
       "    </tr>\n",
       "    <tr>\n",
       "      <th>447183</th>\n",
       "      <td>6Y_O</td>\n",
       "      <td>AGE</td>\n",
       "      <td>VERY_LIKELY</td>\n",
       "      <td>gs://singularity-beta-dlp/catalog.archives.gov...</td>\n",
       "    </tr>\n",
       "    <tr>\n",
       "      <th>447176</th>\n",
       "      <td>4  Yo</td>\n",
       "      <td>AGE</td>\n",
       "      <td>VERY_LIKELY</td>\n",
       "      <td>gs://singularity-beta-dlp/catalog.archives.gov...</td>\n",
       "    </tr>\n",
       "    <tr>\n",
       "      <th>...</th>\n",
       "      <td>...</td>\n",
       "      <td>...</td>\n",
       "      <td>...</td>\n",
       "      <td>...</td>\n",
       "    </tr>\n",
       "    <tr>\n",
       "      <th>196268</th>\n",
       "      <td>448-20-6915</td>\n",
       "      <td>US_SOCIAL_SECURITY_NUMBER</td>\n",
       "      <td>POSSIBLE</td>\n",
       "      <td>gs://singularity-beta-dlp/catalog.archives.gov...</td>\n",
       "    </tr>\n",
       "    <tr>\n",
       "      <th>195071</th>\n",
       "      <td>081-16-2374</td>\n",
       "      <td>US_SOCIAL_SECURITY_NUMBER</td>\n",
       "      <td>POSSIBLE</td>\n",
       "      <td>gs://singularity-beta-dlp/catalog.archives.gov...</td>\n",
       "    </tr>\n",
       "    <tr>\n",
       "      <th>195073</th>\n",
       "      <td>519-54-6550</td>\n",
       "      <td>US_SOCIAL_SECURITY_NUMBER</td>\n",
       "      <td>POSSIBLE</td>\n",
       "      <td>gs://singularity-beta-dlp/catalog.archives.gov...</td>\n",
       "    </tr>\n",
       "    <tr>\n",
       "      <th>197468</th>\n",
       "      <td>519-54-6550</td>\n",
       "      <td>US_SOCIAL_SECURITY_NUMBER</td>\n",
       "      <td>POSSIBLE</td>\n",
       "      <td>gs://singularity-beta-dlp/catalog.archives.gov...</td>\n",
       "    </tr>\n",
       "    <tr>\n",
       "      <th>197470</th>\n",
       "      <td>485-46-3933</td>\n",
       "      <td>US_SOCIAL_SECURITY_NUMBER</td>\n",
       "      <td>POSSIBLE</td>\n",
       "      <td>gs://singularity-beta-dlp/catalog.archives.gov...</td>\n",
       "    </tr>\n",
       "  </tbody>\n",
       "</table>\n",
       "<p>620244 rows × 4 columns</p>\n",
       "</div>"
      ],
      "text/plain": [
       "              quote                       name   likelihood  \\\n",
       "620243         2y>O                        AGE  VERY_LIKELY   \n",
       "447369        0? yo                        AGE  VERY_LIKELY   \n",
       "447195      30`  yo                        AGE  VERY_LIKELY   \n",
       "447183         6Y_O                        AGE  VERY_LIKELY   \n",
       "447176        4  Yo                        AGE  VERY_LIKELY   \n",
       "...             ...                        ...          ...   \n",
       "196268  448-20-6915  US_SOCIAL_SECURITY_NUMBER     POSSIBLE   \n",
       "195071  081-16-2374  US_SOCIAL_SECURITY_NUMBER     POSSIBLE   \n",
       "195073  519-54-6550  US_SOCIAL_SECURITY_NUMBER     POSSIBLE   \n",
       "197468  519-54-6550  US_SOCIAL_SECURITY_NUMBER     POSSIBLE   \n",
       "197470  485-46-3933  US_SOCIAL_SECURITY_NUMBER     POSSIBLE   \n",
       "\n",
       "                                              object_path  \n",
       "620243  gs://singularity-beta-dlp/catalog.archives.gov...  \n",
       "447369  gs://singularity-beta-dlp/catalog.archives.gov...  \n",
       "447195  gs://singularity-beta-dlp/catalog.archives.gov...  \n",
       "447183  gs://singularity-beta-dlp/catalog.archives.gov...  \n",
       "447176  gs://singularity-beta-dlp/catalog.archives.gov...  \n",
       "...                                                   ...  \n",
       "196268  gs://singularity-beta-dlp/catalog.archives.gov...  \n",
       "195071  gs://singularity-beta-dlp/catalog.archives.gov...  \n",
       "195073  gs://singularity-beta-dlp/catalog.archives.gov...  \n",
       "197468  gs://singularity-beta-dlp/catalog.archives.gov...  \n",
       "197470  gs://singularity-beta-dlp/catalog.archives.gov...  \n",
       "\n",
       "[620244 rows x 4 columns]"
      ]
     },
     "execution_count": 16,
     "metadata": {},
     "output_type": "execute_result"
    }
   ],
   "source": [
    "df.drop([\"bounding_boxes\"], axis=1).sort_values([\"name\"])"
   ]
  },
  {
   "cell_type": "markdown",
   "id": "a64f5b84-7fb2-4b32-b651-26d1b629a538",
   "metadata": {},
   "source": [
    "# Types & Likelihoods"
   ]
  },
  {
   "cell_type": "code",
   "execution_count": 17,
   "id": "10784fe6-a4ea-409d-b47f-b118fe189991",
   "metadata": {},
   "outputs": [
    {
     "data": {
      "text/html": [
       "<div>\n",
       "<style scoped>\n",
       "    .dataframe tbody tr th:only-of-type {\n",
       "        vertical-align: middle;\n",
       "    }\n",
       "\n",
       "    .dataframe tbody tr th {\n",
       "        vertical-align: top;\n",
       "    }\n",
       "\n",
       "    .dataframe thead th {\n",
       "        text-align: right;\n",
       "    }\n",
       "</style>\n",
       "<table border=\"1\" class=\"dataframe\">\n",
       "  <thead>\n",
       "    <tr style=\"text-align: right;\">\n",
       "      <th></th>\n",
       "      <th>name</th>\n",
       "      <th>likelihood</th>\n",
       "      <th>ttl</th>\n",
       "    </tr>\n",
       "  </thead>\n",
       "  <tbody>\n",
       "    <tr>\n",
       "      <th>0</th>\n",
       "      <td>PERSON_NAME</td>\n",
       "      <td>UNLIKELY</td>\n",
       "      <td>8576256</td>\n",
       "    </tr>\n",
       "    <tr>\n",
       "      <th>1</th>\n",
       "      <td>PERSON_NAME</td>\n",
       "      <td>POSSIBLE</td>\n",
       "      <td>385464</td>\n",
       "    </tr>\n",
       "    <tr>\n",
       "      <th>2</th>\n",
       "      <td>FDA_CODE</td>\n",
       "      <td>VERY_LIKELY</td>\n",
       "      <td>192808</td>\n",
       "    </tr>\n",
       "    <tr>\n",
       "      <th>3</th>\n",
       "      <td>PERSON_NAME</td>\n",
       "      <td>VERY_UNLIKELY</td>\n",
       "      <td>92028</td>\n",
       "    </tr>\n",
       "    <tr>\n",
       "      <th>4</th>\n",
       "      <td>PERSON_NAME</td>\n",
       "      <td>LIKELY</td>\n",
       "      <td>30284</td>\n",
       "    </tr>\n",
       "    <tr>\n",
       "      <th>5</th>\n",
       "      <td>AGE</td>\n",
       "      <td>VERY_LIKELY</td>\n",
       "      <td>8032</td>\n",
       "    </tr>\n",
       "    <tr>\n",
       "      <th>6</th>\n",
       "      <td>FDA_CODE</td>\n",
       "      <td>POSSIBLE</td>\n",
       "      <td>1904</td>\n",
       "    </tr>\n",
       "    <tr>\n",
       "      <th>7</th>\n",
       "      <td>ETHNIC_GROUP</td>\n",
       "      <td>VERY_LIKELY</td>\n",
       "      <td>560</td>\n",
       "    </tr>\n",
       "    <tr>\n",
       "      <th>8</th>\n",
       "      <td>AGE</td>\n",
       "      <td>POSSIBLE</td>\n",
       "      <td>492</td>\n",
       "    </tr>\n",
       "    <tr>\n",
       "      <th>9</th>\n",
       "      <td>FDA_CODE</td>\n",
       "      <td>UNLIKELY</td>\n",
       "      <td>304</td>\n",
       "    </tr>\n",
       "    <tr>\n",
       "      <th>10</th>\n",
       "      <td>EMAIL_ADDRESS</td>\n",
       "      <td>UNLIKELY</td>\n",
       "      <td>252</td>\n",
       "    </tr>\n",
       "    <tr>\n",
       "      <th>11</th>\n",
       "      <td>PASSWORD</td>\n",
       "      <td>POSSIBLE</td>\n",
       "      <td>248</td>\n",
       "    </tr>\n",
       "    <tr>\n",
       "      <th>12</th>\n",
       "      <td>EMAIL_ADDRESS</td>\n",
       "      <td>POSSIBLE</td>\n",
       "      <td>224</td>\n",
       "    </tr>\n",
       "    <tr>\n",
       "      <th>13</th>\n",
       "      <td>PHONE_NUMBER</td>\n",
       "      <td>UNLIKELY</td>\n",
       "      <td>176</td>\n",
       "    </tr>\n",
       "    <tr>\n",
       "      <th>14</th>\n",
       "      <td>STREET_ADDRESS</td>\n",
       "      <td>LIKELY</td>\n",
       "      <td>160</td>\n",
       "    </tr>\n",
       "    <tr>\n",
       "      <th>15</th>\n",
       "      <td>PASSWORD</td>\n",
       "      <td>UNLIKELY</td>\n",
       "      <td>36</td>\n",
       "    </tr>\n",
       "    <tr>\n",
       "      <th>16</th>\n",
       "      <td>GERMANY_IDENTITY_CARD_NUMBER</td>\n",
       "      <td>UNLIKELY</td>\n",
       "      <td>28</td>\n",
       "    </tr>\n",
       "    <tr>\n",
       "      <th>17</th>\n",
       "      <td>PHONE_NUMBER</td>\n",
       "      <td>POSSIBLE</td>\n",
       "      <td>24</td>\n",
       "    </tr>\n",
       "    <tr>\n",
       "      <th>18</th>\n",
       "      <td>PASSWORD</td>\n",
       "      <td>VERY_UNLIKELY</td>\n",
       "      <td>24</td>\n",
       "    </tr>\n",
       "    <tr>\n",
       "      <th>19</th>\n",
       "      <td>GENDER</td>\n",
       "      <td>POSSIBLE</td>\n",
       "      <td>16</td>\n",
       "    </tr>\n",
       "    <tr>\n",
       "      <th>20</th>\n",
       "      <td>US_SOCIAL_SECURITY_NUMBER</td>\n",
       "      <td>POSSIBLE</td>\n",
       "      <td>16</td>\n",
       "    </tr>\n",
       "    <tr>\n",
       "      <th>21</th>\n",
       "      <td>NETHERLANDS_BSN_NUMBER</td>\n",
       "      <td>UNLIKELY</td>\n",
       "      <td>12</td>\n",
       "    </tr>\n",
       "    <tr>\n",
       "      <th>22</th>\n",
       "      <td>EMAIL_ADDRESS</td>\n",
       "      <td>LIKELY</td>\n",
       "      <td>12</td>\n",
       "    </tr>\n",
       "    <tr>\n",
       "      <th>23</th>\n",
       "      <td>DATE_OF_BIRTH</td>\n",
       "      <td>UNLIKELY</td>\n",
       "      <td>4</td>\n",
       "    </tr>\n",
       "    <tr>\n",
       "      <th>24</th>\n",
       "      <td>CANADA_SOCIAL_INSURANCE_NUMBER</td>\n",
       "      <td>UNLIKELY</td>\n",
       "      <td>4</td>\n",
       "    </tr>\n",
       "  </tbody>\n",
       "</table>\n",
       "</div>"
      ],
      "text/plain": [
       "                              name     likelihood      ttl\n",
       "0                      PERSON_NAME       UNLIKELY  8576256\n",
       "1                      PERSON_NAME       POSSIBLE   385464\n",
       "2                         FDA_CODE    VERY_LIKELY   192808\n",
       "3                      PERSON_NAME  VERY_UNLIKELY    92028\n",
       "4                      PERSON_NAME         LIKELY    30284\n",
       "5                              AGE    VERY_LIKELY     8032\n",
       "6                         FDA_CODE       POSSIBLE     1904\n",
       "7                     ETHNIC_GROUP    VERY_LIKELY      560\n",
       "8                              AGE       POSSIBLE      492\n",
       "9                         FDA_CODE       UNLIKELY      304\n",
       "10                   EMAIL_ADDRESS       UNLIKELY      252\n",
       "11                        PASSWORD       POSSIBLE      248\n",
       "12                   EMAIL_ADDRESS       POSSIBLE      224\n",
       "13                    PHONE_NUMBER       UNLIKELY      176\n",
       "14                  STREET_ADDRESS         LIKELY      160\n",
       "15                        PASSWORD       UNLIKELY       36\n",
       "16    GERMANY_IDENTITY_CARD_NUMBER       UNLIKELY       28\n",
       "17                    PHONE_NUMBER       POSSIBLE       24\n",
       "18                        PASSWORD  VERY_UNLIKELY       24\n",
       "19                          GENDER       POSSIBLE       16\n",
       "20       US_SOCIAL_SECURITY_NUMBER       POSSIBLE       16\n",
       "21          NETHERLANDS_BSN_NUMBER       UNLIKELY       12\n",
       "22                   EMAIL_ADDRESS         LIKELY       12\n",
       "23                   DATE_OF_BIRTH       UNLIKELY        4\n",
       "24  CANADA_SOCIAL_INSURANCE_NUMBER       UNLIKELY        4"
      ]
     },
     "execution_count": 17,
     "metadata": {},
     "output_type": "execute_result"
    }
   ],
   "source": [
    "pd.read_gbq(f\"\"\"\n",
    "    SELECT info_type.name, likelihood, count(*) AS ttl\n",
    "    FROM {TBL}\n",
    "    GROUP BY info_type.name, likelihood\n",
    "    ORDER BY ttl DESC\n",
    "\"\"\", use_bqstorage_api=True)"
   ]
  },
  {
   "cell_type": "code",
   "execution_count": 18,
   "id": "40b62c5b-e855-4fe8-a263-c1e2b427a7f0",
   "metadata": {},
   "outputs": [
    {
     "data": {
      "image/png": "[encoded data removed]",
      "text/plain": [
       "<Figure size 432x288 with 1 Axes>"
      ]
     },
     "metadata": {
      "needs_background": "light"
     },
     "output_type": "display_data"
    }
   ],
   "source": [
    "pd.read_gbq(f\"\"\"\n",
    "    SELECT likelihood, count(*) AS ttl\n",
    "    FROM {TBL}\n",
    "    GROUP BY likelihood\n",
    "    ORDER BY ttl DESC\n",
    "\"\"\", use_bqstorage_api=True).plot.bar(stacked=True, x=\"likelihood\", y=\"ttl\", alpha=0.75);"
   ]
  },
  {
   "cell_type": "code",
   "execution_count": 19,
   "id": "86fc0745-8506-4d84-a5a8-e949abc6843b",
   "metadata": {},
   "outputs": [
    {
     "data": {
      "image/png": "[encoded data removed]",
      "text/plain": [
       "<Figure size 432x288 with 1 Axes>"
      ]
     },
     "metadata": {
      "needs_background": "light"
     },
     "output_type": "display_data"
    }
   ],
   "source": [
    "pd.read_gbq(f\"\"\"\n",
    "    SELECT info_type.name, COUNT(*) AS ttl\n",
    "    FROM {TBL}\n",
    "    GROUP BY info_type.name\n",
    "    HAVING ttl > 1000\n",
    "    ORDER BY ttl DESC\n",
    "    \n",
    "\"\"\", use_bqstorage_api=True).plot.bar(stacked=True, x=\"name\", y=\"ttl\", alpha=0.75);"
   ]
  },
  {
   "cell_type": "code",
   "execution_count": null,
   "id": "e8c53b04-a0d7-475c-b057-a39e42026960",
   "metadata": {},
   "outputs": [],
   "source": []
  }
 ],
 "metadata": {
  "kernelspec": {
   "display_name": "Python 3 (ipykernel)",
   "language": "python",
   "name": "python3"
  },
  "language_info": {
   "codemirror_mode": {
    "name": "ipython",
    "version": 3
   },
   "file_extension": ".py",
   "mimetype": "text/x-python",
   "name": "python",
   "nbconvert_exporter": "python",
   "pygments_lexer": "ipython3",
   "version": "3.10.2"
  }
 },
 "nbformat": 4,
 "nbformat_minor": 5
}
